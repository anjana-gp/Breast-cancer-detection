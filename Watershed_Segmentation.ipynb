{
  "nbformat": 4,
  "nbformat_minor": 0,
  "metadata": {
    "colab": {
      "provenance": [],
      "mount_file_id": "1NdEr7rfHjMGDiNF8zjV2qESri1FUv5K6",
      "authorship_tag": "ABX9TyMAJvKb8RJS8ZtPlOmR7sES"
    },
    "kernelspec": {
      "name": "python3",
      "display_name": "Python 3"
    },
    "language_info": {
      "name": "python"
    }
  },
  "cells": [
    {
      "cell_type": "code",
      "execution_count": null,
      "metadata": {
        "id": "g7P3GbHYOwd1"
      },
      "outputs": [],
      "source": [
        "import tifffile as tiff\n",
        "from PIL import Image\n",
        "import sys\n",
        "import re\n",
        "import gc\n",
        "import time\n",
        "import os\n",
        "import zipfile\n",
        "import cv2\n",
        "\n",
        "import pandas as pd\n",
        "from glob import glob\n",
        "from tqdm.notebook import tqdm\n",
        "import torch\n",
        "import numpy as np\n",
        "import matplotlib.pyplot as plt\n",
        "from skimage import measure\n",
        "from PIL import Image\n",
        "import matplotlib.pyplot as plt\n",
        "import tifffile as tiff\n",
        "from google.colab.patches import cv2_imshow\n",
        "\n",
        "from skimage.metrics import structural_similarity as ssim, peak_signal_noise_ratio as psnr\n",
        "from skimage import io\n"
      ]
    },
    {
      "cell_type": "code",
      "source": [
        "\n",
        "path = r'/content/drive/MyDrive/Break_his_stained/Cancer_validation/benign_stained' # Source Folder\n",
        "dstpath = r'/content/drive/MyDrive/Breakhis_segmented/Cancer_validation/benign_stained_seg' # change URLs here.\n",
        "target = tiff.imread('/content/drive/MyDrive/done.tiff')\n",
        "\n",
        "\n",
        "\n",
        "try:\n",
        "    os.makedirs(dstpath)\n",
        "except:\n",
        "    print (\"Directory already exist, images will be written in asme folder\")\n",
        "\n",
        "# Folder won't used\n",
        "files = os.listdir(path)\n",
        "\n",
        "#for image in files:\n",
        "for image in files:\n",
        " img = cv2.imread(os.path.join(path,image))\n",
        " b,g,r = cv2.split(img)\n",
        " rgb_img = cv2.merge([r,g,b])\n",
        "\n",
        " gray = cv2.cvtColor(img,cv2.COLOR_BGR2GRAY)\n",
        " ret, thresh = cv2.threshold(gray,0,255,cv2.THRESH_BINARY_INV+cv2.THRESH_OTSU)\n",
        "\n",
        "# noise removal\n",
        " kernel = np.ones((2,2),np.uint8)\n",
        "#opening = cv2.morphologyEx(thresh,cv2.MORPH_OPEN,kernel, iterations = 2)\n",
        " closing = cv2.morphologyEx(thresh,cv2.MORPH_CLOSE,kernel, iterations = 2)\n",
        "\n",
        "# sure background area\n",
        " sure_bg = cv2.dilate(closing,kernel,iterations=3)\n",
        "\n",
        "# Finding sure foreground area\n",
        " dist_transform = cv2.distanceTransform(sure_bg,cv2.DIST_L2,3)\n",
        "\n",
        "# Threshold\n",
        " ret, sure_fg = cv2.threshold(dist_transform,0.1*dist_transform.max(),255,0)\n",
        "\n",
        "# Finding unknown region\n",
        " sure_fg = np.uint8(sure_fg)\n",
        " unknown = cv2.subtract(sure_bg,sure_fg)\n",
        "\n",
        "# Marker labelling\n",
        " ret, markers = cv2.connectedComponents(sure_fg)\n",
        "\n",
        "# Add one to all labels so that sure background is not 0, but 1\n",
        " markers = markers+1\n",
        "\n",
        "# Now, mark the region of unknown with zero\n",
        " markers[unknown==255] = 0\n",
        "\n",
        " markers = cv2.watershed(img,markers)\n",
        " img[markers == -1] = [255,0,0]\n",
        " cv2.imwrite(os.path.join(dstpath,image),img)"
      ],
      "metadata": {
        "id": "IAA3GWDyPi-2"
      },
      "execution_count": null,
      "outputs": []
    }
  ]
}